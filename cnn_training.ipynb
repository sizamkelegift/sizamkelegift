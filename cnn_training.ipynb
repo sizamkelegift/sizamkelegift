{
 "cells": [
  {
   "cell_type": "markdown",
   "id": "dd438f16",
   "metadata": {},
   "source": [
    "# Shape classification using CNN\n",
    "\n",
    "In this notebook, we will be using the CNN architecture to train and evaluate a model that classifies simple shapes, in particular, circle square and a triangle.\n",
    "\n",
    "Image will be used to train and test the model.\n"
   ]
  },
  {
   "cell_type": "markdown",
   "id": "12eaa9e2",
   "metadata": {},
   "source": [
    "### Importing the neccessary dependancies"
   ]
  },
  {
   "cell_type": "code",
   "execution_count": 1,
   "id": "69c10dc5",
   "metadata": {},
   "outputs": [],
   "source": [
    "from pathlib import Path\n",
    "\n",
    "import numpy as np\n",
    "import matplotlib.pyplot as plt\n",
    "from sklearn.model_selection import train_test_split\n",
    "from sklearn.preprocessing import MinMaxScaler, StandardScaler\n",
    "from sklearn.preprocessing import LabelEncoder\n",
    "import torch\n",
    "import torch.nn as nn\n",
    "import torch.nn.functional as F\n",
    "import torchvision\n",
    "import torchvision.transforms as transforms\n",
    "import torch.optim as optim\n",
    "from torch.utils.data import Dataset, DataLoader\n",
    "from torch.utils.data import SubsetRandomSampler\n",
    "from PIL import Image\n",
    "from torch.optim import Adam\n",
    "import glob\n",
    "\n"
   ]
  },
  {
   "cell_type": "code",
   "execution_count": 3,
   "id": "b29223ab",
   "metadata": {},
   "outputs": [],
   "source": [
    "#check device\n",
    "device = torch.device('cpu' )"
   ]
  },
  {
   "cell_type": "markdown",
   "id": "e6774ad2",
   "metadata": {},
   "source": [
    "## Image transformation\n"
   ]
  },
  {
   "cell_type": "code",
   "execution_count": 4,
   "id": "fbd62847",
   "metadata": {},
   "outputs": [],
   "source": [
    "#Transforms - image\n",
    "transformer=transforms.Compose([\n",
    "    transforms.Resize((200,200)),\n",
    "    transforms.RandomHorizontalFlip(),\n",
    "    transforms.ToTensor(),  #0-255 to 0-1, numpy to tensors\n",
    "    transforms.Normalize([0.5,0.5,0.5], # 0-1 to [-1,1] , formula (x-mean)/std\n",
    "                        [0.5,0.5,0.5])\n",
    "])"
   ]
  },
  {
   "cell_type": "markdown",
   "id": "a352cd8b",
   "metadata": {},
   "source": [
    "## Loading data"
   ]
  },
  {
   "cell_type": "code",
   "execution_count": 5,
   "id": "51605bd4",
   "metadata": {},
   "outputs": [],
   "source": [
    "train = Path.cwd() / \"dataset\"/\"train\" #or wherever your dataset is located\n",
    "test = Path.cwd() / \"dataset\"/\"test\"\n"
   ]
  },
  {
   "cell_type": "code",
   "execution_count": 6,
   "id": "75bc8044",
   "metadata": {},
   "outputs": [],
   "source": [
    "train_loader=DataLoader(\n",
    "    torchvision.datasets.ImageFolder(train,transform=transformer),\n",
    "    batch_size=10, shuffle=True\n",
    ")\n",
    "test_loader=DataLoader(\n",
    "    torchvision.datasets.ImageFolder(test,transform=transformer),\n",
    "    batch_size=10, shuffle=True\n",
    ")"
   ]
  },
  {
   "cell_type": "markdown",
   "id": "38270cca",
   "metadata": {},
   "source": [
    "## Labels and Categories"
   ]
  },
  {
   "cell_type": "code",
   "execution_count": 7,
   "id": "e8ec7782",
   "metadata": {},
   "outputs": [],
   "source": [
    "#categories\n",
    "\n",
    "root=Path(train)\n",
    "classes=sorted([j.name.split('/')[-1] for j in root.iterdir()])"
   ]
  },
  {
   "cell_type": "code",
   "execution_count": 8,
   "id": "89af9aba",
   "metadata": {},
   "outputs": [
    {
     "name": "stdout",
     "output_type": "stream",
     "text": [
      "['circle', 'square', 'triangle']\n"
     ]
    }
   ],
   "source": [
    "print(classes)"
   ]
  },
  {
   "cell_type": "markdown",
   "id": "80c1e3a9",
   "metadata": {},
   "source": [
    "## Defining the architecture "
   ]
  },
  {
   "cell_type": "code",
   "execution_count": 9,
   "id": "2dc570f0",
   "metadata": {},
   "outputs": [],
   "source": [
    "#CNN Network\n",
    "\n",
    "class ConvNet(nn.Module):\n",
    "    def __init__(self,num_classes=4):\n",
    "        super(ConvNet,self).__init__()\n",
    "        \n",
    "        #Output size after convolution filter\n",
    "        #((w-f+2P)/s) +1\n",
    "        \n",
    "        #Input shape= (256,3,150,150)\n",
    "        \n",
    "        self.conv1=nn.Conv2d(in_channels=3,out_channels=12,kernel_size=3,stride=1,padding=1)\n",
    "        #Shape= (256,12,150,150)\n",
    "        self.bn1=nn.BatchNorm2d(num_features=12)\n",
    "        #Shape= (256,12,150,150)\n",
    "        self.relu1=nn.ReLU()\n",
    "        #Shape= (256,12,150,150)\n",
    "        \n",
    "        self.pool=nn.MaxPool2d(kernel_size=2)\n",
    "        #Reduce the image size be factor 2\n",
    "        #Shape= (256,12,100,100)\n",
    "        \n",
    "        \n",
    "        self.conv2=nn.Conv2d(in_channels=12,out_channels=20,kernel_size=3,stride=1,padding=1)\n",
    "        #Shape= (256,20,75,75)\n",
    "        self.relu2=nn.ReLU()\n",
    "        #Shape= (256,20,75,75)\n",
    "        \n",
    "        \n",
    "        \n",
    "        self.conv3=nn.Conv2d(in_channels=20,out_channels=32,kernel_size=3,stride=1,padding=1)\n",
    "        #Shape= (256,32,75,75)\n",
    "        self.bn3=nn.BatchNorm2d(num_features=32)\n",
    "        #Shape= (256,32,75,75)\n",
    "        self.relu3=nn.ReLU()\n",
    "        #Shape= (256,32,75,75)\n",
    "        \n",
    "        \n",
    "        self.fc=nn.Linear(in_features=100 * 100 * 32,out_features=num_classes)\n",
    "        \n",
    "        #Feed forwad function\n",
    "        \n",
    "    def forward(self,input):\n",
    "        output=self.conv1(input)\n",
    "        output=self.bn1(output)\n",
    "        output=self.relu1(output)\n",
    "            \n",
    "        output=self.pool(output)\n",
    "            \n",
    "        output=self.conv2(output)\n",
    "        output=self.relu2(output)\n",
    "            \n",
    "        output=self.conv3(output)\n",
    "        output=self.bn3(output)\n",
    "        output=self.relu3(output)\n",
    "            \n",
    "            \n",
    "        #Above output will be in matrix form, with shape (256,32,75,75)\n",
    "            \n",
    "        output=output.view(-1,32*100*100)\n",
    "            \n",
    "            \n",
    "        output=self.fc(output)\n",
    "            \n",
    "        return output\n"
   ]
  },
  {
   "cell_type": "markdown",
   "id": "601b03bd",
   "metadata": {},
   "source": [
    "## Defining the model"
   ]
  },
  {
   "cell_type": "code",
   "execution_count": 16,
   "id": "ed4e1027",
   "metadata": {},
   "outputs": [],
   "source": [
    "model=ConvNet(num_classes=4).to(device)"
   ]
  },
  {
   "cell_type": "markdown",
   "id": "592851dc",
   "metadata": {},
   "source": [
    "## Optmizer and loss function"
   ]
  },
  {
   "cell_type": "code",
   "execution_count": 12,
   "id": "aec55161",
   "metadata": {},
   "outputs": [],
   "source": [
    "#Optmizer and loss function\n",
    "optimizer=Adam(model.parameters(),lr=0.001,weight_decay=0.0001)\n",
    "loss_function=nn.CrossEntropyLoss()"
   ]
  },
  {
   "cell_type": "code",
   "execution_count": 13,
   "id": "ec16cd91",
   "metadata": {},
   "outputs": [],
   "source": [
    "#calculating the size of training and testing images\n",
    "train_count=len(glob.glob(str(train)+'/**/*.png'))\n",
    "test_count=len(glob.glob(str(test)+'/**/*.png'))"
   ]
  },
  {
   "cell_type": "code",
   "execution_count": 14,
   "id": "076b009b",
   "metadata": {},
   "outputs": [
    {
     "name": "stdout",
     "output_type": "stream",
     "text": [
      "3000 3000\n"
     ]
    }
   ],
   "source": [
    "print(train_count,test_count)"
   ]
  },
  {
   "cell_type": "markdown",
   "id": "6850d48f",
   "metadata": {},
   "source": [
    "## Model training and saving best model"
   ]
  },
  {
   "cell_type": "code",
   "execution_count": 15,
   "id": "62cd1c74",
   "metadata": {},
   "outputs": [
    {
     "name": "stderr",
     "output_type": "stream",
     "text": [
      "C:\\Users\\Sizamkele Ngqwemla\\anaconda3\\lib\\site-packages\\torch\\nn\\functional.py:718: UserWarning: Named tensors and all their associated APIs are an experimental feature and subject to change. Please do not use them for anything important until they are released as stable. (Triggered internally at  ..\\c10/core/TensorImpl.h:1156.)\n",
      "  return torch.max_pool2d(input, kernel_size, stride, padding, dilation, ceil_mode)\n"
     ]
    },
    {
     "name": "stdout",
     "output_type": "stream",
     "text": [
      "Epoch: 0 Train Loss: tensor(7.4212) Train Accuracy: 0.8766666666666667 Test Accuracy: 0.917\n",
      "Epoch: 1 Train Loss: tensor(4.3532) Train Accuracy: 0.9226666666666666 Test Accuracy: 0.941\n",
      "Epoch: 2 Train Loss: tensor(2.6801) Train Accuracy: 0.9373333333333334 Test Accuracy: 0.9466666666666667\n",
      "Epoch: 3 Train Loss: tensor(1.4195) Train Accuracy: 0.954 Test Accuracy: 0.9196666666666666\n",
      "Epoch: 4 Train Loss: tensor(0.6050) Train Accuracy: 0.9653333333333334 Test Accuracy: 0.9446666666666667\n",
      "Epoch: 5 Train Loss: tensor(0.3831) Train Accuracy: 0.9736666666666667 Test Accuracy: 0.9473333333333334\n",
      "Epoch: 6 Train Loss: tensor(0.2471) Train Accuracy: 0.9776666666666667 Test Accuracy: 0.9363333333333334\n",
      "Epoch: 7 Train Loss: tensor(0.1568) Train Accuracy: 0.9803333333333333 Test Accuracy: 0.9483333333333334\n",
      "Epoch: 8 Train Loss: tensor(0.1387) Train Accuracy: 0.9813333333333333 Test Accuracy: 0.9423333333333334\n",
      "Epoch: 9 Train Loss: tensor(0.0870) Train Accuracy: 0.9876666666666667 Test Accuracy: 0.9456666666666667\n"
     ]
    }
   ],
   "source": [
    "#Model training and saving best model\n",
    "\n",
    "best_accuracy=0.0\n",
    "num_epochs=10\n",
    "\n",
    "history = {\n",
    "    'train_loss':[],\n",
    "    'train_acc': [],\n",
    "    'val_loss':[],\n",
    "    'val_acc':[]\n",
    "}\n",
    "\n",
    "for epoch in range(num_epochs):\n",
    "    \n",
    "    #Evaluation and training on training dataset\n",
    "    model.train()\n",
    "    train_accuracy=0.0\n",
    "    train_loss=0.0\n",
    "    \n",
    "    for i, (images,labels) in enumerate(train_loader):\n",
    "        if torch.cuda.is_available():\n",
    "            images=Variable(images.cuda())\n",
    "            labels=Variable(labels.cuda())\n",
    "            \n",
    "        optimizer.zero_grad()\n",
    "        \n",
    "        outputs=model(images)\n",
    "        loss=loss_function(outputs,labels)\n",
    "        loss.backward()\n",
    "        optimizer.step()\n",
    "        \n",
    "        \n",
    "        train_loss+= loss.cpu().data*images.size(0)\n",
    "        _,prediction=torch.max(outputs.data,1)\n",
    "        \n",
    "        train_accuracy+=int(torch.sum(prediction==labels.data))\n",
    "        \n",
    "    train_accuracy=train_accuracy/train_count\n",
    "    train_loss=train_loss/train_count\n",
    "    history['train_acc'].append(train_accuracy)\n",
    "    history['train_loss'].append(train_loss)\n",
    "    \n",
    "    # Evaluation on testing dataset\n",
    "    model.eval()\n",
    "    \n",
    "    test_accuracy=0.0\n",
    "    for i, (images,labels) in enumerate(test_loader):\n",
    "        if torch.cuda.is_available():\n",
    "            images=Variable(images.cuda())\n",
    "            labels=Variable(labels.cuda())\n",
    "            \n",
    "        outputs=model(images)\n",
    "        _,prediction=torch.max(outputs.data,1)\n",
    "        test_accuracy+=int(torch.sum(prediction==labels.data))\n",
    "    \n",
    "    test_accuracy=test_accuracy/test_count\n",
    "    history['val_acc'].append(test_accuracy)\n",
    "    \n",
    "    print('Epoch: '+str(epoch)+' Train Loss: '+str(train_loss)+' Train Accuracy: '+str(train_accuracy)+' Test Accuracy: '+str(test_accuracy))\n",
    "    \n",
    "    #Save the best model\n",
    "    if test_accuracy>best_accuracy:\n",
    "        torch.save(model.state_dict(),'best_checkpoint.model')\n",
    "        best_accuracy=test_accuracy"
   ]
  },
  {
   "cell_type": "markdown",
   "id": "e87eeef2",
   "metadata": {},
   "source": [
    "## Plotting and evaluation"
   ]
  },
  {
   "cell_type": "code",
   "execution_count": 22,
   "id": "8c5f2f87",
   "metadata": {},
   "outputs": [
    {
     "data": {
      "image/png": "[encoded data removed]",
      "text/plain": [
       "<Figure size 576x576 with 1 Axes>"
      ]
     },
     "metadata": {
      "needs_background": "light"
     },
     "output_type": "display_data"
    },
    {
     "data": {
      "image/png": "[encoded data removed]",
      "text/plain": [
       "<Figure size 576x576 with 1 Axes>"
      ]
     },
     "metadata": {
      "needs_background": "light"
     },
     "output_type": "display_data"
    }
   ],
   "source": [
    "# You can do whatever you would like to plot results as long as it makes sense.\n",
    "fig = plt.figure(figsize = (8,8))\n",
    "plt.plot(history['train_acc'], label = 'train_acc')\n",
    "plt.plot(history['val_acc'], label = 'val_acc')\n",
    "plt.xlabel(\"Logging iterations\")\n",
    "plt.ylabel(\"Accuracy\")\n",
    "plt.legend()\n",
    "plt.show()\n",
    "\n",
    "fig = plt.figure(figsize = (8,8))\n",
    "plt.plot(history['train_loss'], label = 'train_loss')\n",
    "plt.xlabel(\"Logging iterations\")\n",
    "plt.ylabel(\"Cross-entropy losses\")\n",
    "plt.legend()\n",
    "plt.show()\n",
    "### END ANSWER ###"
   ]
  },
  {
   "cell_type": "code",
   "execution_count": null,
   "id": "ab9e8d42",
   "metadata": {},
   "outputs": [],
   "source": []
  }
 ],
 "metadata": {
  "kernelspec": {
   "display_name": "Python 3",
   "language": "python",
   "name": "python3"
  },
  "language_info": {
   "codemirror_mode": {
    "name": "ipython",
    "version": 3
   },
   "file_extension": ".py",
   "mimetype": "text/x-python",
   "name": "python",
   "nbconvert_exporter": "python",
   "pygments_lexer": "ipython3",
   "version": "3.8.8"
  }
 },
 "nbformat": 4,
 "nbformat_minor": 5
}
