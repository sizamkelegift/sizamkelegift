{
 "cells": [
  {
   "cell_type": "code",
   "execution_count": 1,
   "id": "b5cb4c42",
   "metadata": {},
   "outputs": [],
   "source": [
    "import numpy as np\n",
    "from PIL import Image as im\n",
    "from pathlib import Path\n",
    "import PIL.ImageOps   "
   ]
  },
  {
   "cell_type": "code",
   "execution_count": 3,
   "id": "995ceff3",
   "metadata": {},
   "outputs": [],
   "source": [
    "cir = np.load(Path.cwd() / \"dataset_npy\"/\"circle.npy\")#or wherever your dataset is located\n",
    "sqr = np.load(Path.cwd() / \"dataset_npy\"/\"square.npy\") #or wherever your dataset is located\n",
    "tri = np.load(Path.cwd() / \"dataset_npy\"/\"triangle.npy\") #or wherever your dataset is located"
   ]
  },
  {
   "cell_type": "code",
   "execution_count": 8,
   "id": "2a7ee968",
   "metadata": {},
   "outputs": [],
   "source": [
    "cir = cir[:1000]\n",
    "sqr = sqr[:1000]\n",
    "tri = tri[:1000]"
   ]
  },
  {
   "cell_type": "code",
   "execution_count": 9,
   "id": "f641b316",
   "metadata": {},
   "outputs": [],
   "source": [
    "\n",
    "\n",
    "def main(arr_list):\n",
    "    count = 0\n",
    "    \n",
    "    for arr in arr_list:\n",
    "        arr = np.reshape(arr, (28,28))\n",
    "        data = im.fromarray(arr)\n",
    "        inverted_image = PIL.ImageOps.invert(data)\n",
    "        inverted_image.save('s{}.png'.format(count))\n",
    "        count = count + 1\n",
    "\n"
   ]
  },
  {
   "cell_type": "code",
   "execution_count": 10,
   "id": "219dc11a",
   "metadata": {},
   "outputs": [],
   "source": [
    "main(tri)"
   ]
  },
  {
   "cell_type": "code",
   "execution_count": null,
   "id": "c12bb899",
   "metadata": {},
   "outputs": [],
   "source": []
  }
 ],
 "metadata": {
  "kernelspec": {
   "display_name": "Python 3",
   "language": "python",
   "name": "python3"
  },
  "language_info": {
   "codemirror_mode": {
    "name": "ipython",
    "version": 3
   },
   "file_extension": ".py",
   "mimetype": "text/x-python",
   "name": "python",
   "nbconvert_exporter": "python",
   "pygments_lexer": "ipython3",
   "version": "3.8.8"
  }
 },
 "nbformat": 4,
 "nbformat_minor": 5
}
