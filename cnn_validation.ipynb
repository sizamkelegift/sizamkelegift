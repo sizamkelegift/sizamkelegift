{
 "cells": [
  {
   "cell_type": "markdown",
   "id": "a7ae6bbe",
   "metadata": {},
   "source": [
    "# Shape classification using CNN\n",
    "\n",
    "In this notebook, we will be using the model to perform predictions\n"
   ]
  },
  {
   "cell_type": "code",
   "execution_count": 2,
   "id": "b842d851",
   "metadata": {},
   "outputs": [],
   "source": [
    "import torch\n",
    "import torch.nn as nn\n",
    "from torchvision.transforms import transforms\n",
    "import numpy as np\n",
    "from torch.autograd import Variable\n",
    "from torchvision.models import squeezenet1_1\n",
    "import torch.functional as F\n",
    "from io import open\n",
    "import os\n",
    "from PIL import Image\n",
    "from pathlib import Path\n",
    "import glob\n",
    "import cv2"
   ]
  },
  {
   "cell_type": "markdown",
   "id": "9cf05494",
   "metadata": {},
   "source": [
    "## loading the data\n",
    "\n",
    "This cell loads the data to be predicted from the pred folder in the datasets folder"
   ]
  },
  {
   "cell_type": "code",
   "execution_count": 3,
   "id": "715488ff",
   "metadata": {},
   "outputs": [],
   "source": [
    "train = Path.cwd() / \"dataset\"/\"train\"\n",
    "pred = Path.cwd() / \"dataset\"/\"pred\""
   ]
  },
  {
   "cell_type": "code",
   "execution_count": 276,
   "id": "831e587b",
   "metadata": {},
   "outputs": [
    {
     "name": "stdout",
     "output_type": "stream",
     "text": [
      "['circle', 'square', 'triangle']\n"
     ]
    }
   ],
   "source": [
    "#categories\n",
    "root=Path(train)\n",
    "classes=sorted([j.name.split('/')[-1] for j in root.iterdir()])\n",
    "print(classes)"
   ]
  },
  {
   "cell_type": "markdown",
   "id": "4089d2e6",
   "metadata": {},
   "source": [
    "## Defining the architecture "
   ]
  },
  {
   "cell_type": "code",
   "execution_count": 277,
   "id": "4a4b8178",
   "metadata": {},
   "outputs": [],
   "source": [
    "#CNN Network\n",
    "\n",
    "\n",
    "class ConvNet(nn.Module):\n",
    "    def __init__(self,num_classes=4):\n",
    "        super(ConvNet,self).__init__()\n",
    "        \n",
    "        #Output size after convolution filter\n",
    "        #((w-f+2P)/s) +1\n",
    "        \n",
    "        #Input shape= (256,3,150,150)\n",
    "        \n",
    "        self.conv1=nn.Conv2d(in_channels=3,out_channels=12,kernel_size=3,stride=1,padding=1)\n",
    "        #Shape= (256,12,150,150)\n",
    "        self.bn1=nn.BatchNorm2d(num_features=12)\n",
    "        #Shape= (256,12,150,150)\n",
    "        self.relu1=nn.ReLU()\n",
    "        #Shape= (256,12,150,150)\n",
    "        \n",
    "        self.pool=nn.MaxPool2d(kernel_size=2)\n",
    "        #Reduce the image size be factor 2\n",
    "        #Shape= (256,12,75,75)\n",
    "        \n",
    "        \n",
    "        self.conv2=nn.Conv2d(in_channels=12,out_channels=20,kernel_size=3,stride=1,padding=1)\n",
    "        #Shape= (256,20,75,75)\n",
    "        self.relu2=nn.ReLU()\n",
    "        #Shape= (256,20,75,75)\n",
    "        self.conv3=nn.Conv2d(in_channels=20,out_channels=32,kernel_size=3,stride=1,padding=1)\n",
    "        #Shape= (256,32,75,75)\n",
    "        self.bn3=nn.BatchNorm2d(num_features=32)\n",
    "        #Shape= (256,32,75,75)\n",
    "        self.relu3=nn.ReLU()\n",
    "        #Shape= (256,32,75,75)\n",
    "        \n",
    "        \n",
    "        self.fc=nn.Linear(in_features=100 * 100 * 32,out_features=num_classes)\n",
    "        \n",
    "        \n",
    "        #Feed forwad function\n",
    "        \n",
    "    def forward(self,input):\n",
    "        output=self.conv1(input)\n",
    "        output=self.bn1(output)\n",
    "        output=self.relu1(output)\n",
    "            \n",
    "        output=self.pool(output)\n",
    "            \n",
    "        output=self.conv2(output)\n",
    "        output=self.relu2(output)\n",
    "            \n",
    "        output=self.conv3(output)\n",
    "        output=self.bn3(output)\n",
    "        output=self.relu3(output)\n",
    "        \n",
    "        \n",
    "        #Above output will be in matrix form, with shape (256,32,75,75)\n",
    "            \n",
    "        output=output.view(-1,32*100*100)\n",
    "            \n",
    "            \n",
    "        output=self.fc(output)\n",
    "            \n",
    "        return output"
   ]
  },
  {
   "cell_type": "markdown",
   "id": "7d2fad24",
   "metadata": {},
   "source": [
    "## Loading the saved model"
   ]
  },
  {
   "cell_type": "code",
   "execution_count": 278,
   "id": "cb95944f",
   "metadata": {},
   "outputs": [
    {
     "data": {
      "text/plain": [
       "ConvNet(\n",
       "  (conv1): Conv2d(3, 12, kernel_size=(3, 3), stride=(1, 1), padding=(1, 1))\n",
       "  (bn1): BatchNorm2d(12, eps=1e-05, momentum=0.1, affine=True, track_running_stats=True)\n",
       "  (relu1): ReLU()\n",
       "  (pool): MaxPool2d(kernel_size=2, stride=2, padding=0, dilation=1, ceil_mode=False)\n",
       "  (conv2): Conv2d(12, 20, kernel_size=(3, 3), stride=(1, 1), padding=(1, 1))\n",
       "  (relu2): ReLU()\n",
       "  (conv3): Conv2d(20, 32, kernel_size=(3, 3), stride=(1, 1), padding=(1, 1))\n",
       "  (bn3): BatchNorm2d(32, eps=1e-05, momentum=0.1, affine=True, track_running_stats=True)\n",
       "  (relu3): ReLU()\n",
       "  (fc): Linear(in_features=320000, out_features=4, bias=True)\n",
       ")"
      ]
     },
     "execution_count": 278,
     "metadata": {},
     "output_type": "execute_result"
    }
   ],
   "source": [
    "checkpoint=torch.load('best_checkpoint.model')\n",
    "model=ConvNet(num_classes=4)\n",
    "model.load_state_dict(checkpoint)\n",
    "model.eval()"
   ]
  },
  {
   "cell_type": "markdown",
   "id": "2c6ae3a4",
   "metadata": {},
   "source": [
    "## Transforming the images to be predicted\n"
   ]
  },
  {
   "cell_type": "code",
   "execution_count": 279,
   "id": "1319779a",
   "metadata": {},
   "outputs": [],
   "source": [
    "#Transforms\n",
    "transformer=transforms.Compose([\n",
    "    transforms.Resize((200,200)),\n",
    "    transforms.ToTensor(),  #0-255 to 0-1, numpy to tensors\n",
    "    transforms.Normalize([0.5,0.5,0.5], # 0-1 to [-1,1] , formula (x-mean)/std\n",
    "                        [0.5,0.5,0.5])\n",
    "])"
   ]
  },
  {
   "cell_type": "markdown",
   "id": "c8c2de68",
   "metadata": {},
   "source": [
    "## Defining the prediction fuction"
   ]
  },
  {
   "cell_type": "code",
   "execution_count": 283,
   "id": "3c46565d",
   "metadata": {},
   "outputs": [],
   "source": [
    "#prediction function\n",
    "def prediction(img_path,transformer):\n",
    "    \n",
    "    image=Image.open(img_path)\n",
    "    \n",
    "    \n",
    "    image_tensor=transformer(image).float()\n",
    "    \n",
    "    \n",
    "    image_tensor=image_tensor.unsqueeze_(0)\n",
    "    \n",
    "    if torch.cuda.is_available():\n",
    "        image_tensor.cuda()\n",
    "        \n",
    "    input=Variable(image_tensor)\n",
    "    \n",
    "    \n",
    "    output=model(input)\n",
    "    \n",
    "    index=output.data.numpy().argmax()\n",
    "    \n",
    "    pred=classes[index]\n",
    "    \n",
    "    return pred"
   ]
  },
  {
   "cell_type": "markdown",
   "id": "4f2107b0",
   "metadata": {},
   "source": [
    "## Performing the predictions"
   ]
  },
  {
   "cell_type": "code",
   "execution_count": 284,
   "id": "01881a2c",
   "metadata": {},
   "outputs": [],
   "source": [
    "images_path=glob.glob(str(pred)+'/*.png')"
   ]
  },
  {
   "cell_type": "code",
   "execution_count": 285,
   "id": "2bd29fc1",
   "metadata": {},
   "outputs": [],
   "source": [
    "pred_dict={}\n",
    "\n",
    "for i in images_path:\n",
    "    pred_dict[i[i.rfind('/')+1:]]=prediction(i,transformer)"
   ]
  },
  {
   "cell_type": "markdown",
   "id": "ef1825ef",
   "metadata": {},
   "source": [
    "## Prediction Results"
   ]
  },
  {
   "cell_type": "code",
   "execution_count": 286,
   "id": "787e08a1",
   "metadata": {},
   "outputs": [
    {
     "data": {
      "text/plain": [
       "{'C:\\\\Users\\\\Sizamkele Ngqwemla\\\\Documents\\\\Mechatronics_Engineering\\\\4th_Year_Academics\\\\First_Semester\\\\EEE4114F_DSP\\\\project2\\\\dataset\\\\pred\\\\C1.png': 'circle',\n",
       " 'C:\\\\Users\\\\Sizamkele Ngqwemla\\\\Documents\\\\Mechatronics_Engineering\\\\4th_Year_Academics\\\\First_Semester\\\\EEE4114F_DSP\\\\project2\\\\dataset\\\\pred\\\\C2.png': 'circle',\n",
       " 'C:\\\\Users\\\\Sizamkele Ngqwemla\\\\Documents\\\\Mechatronics_Engineering\\\\4th_Year_Academics\\\\First_Semester\\\\EEE4114F_DSP\\\\project2\\\\dataset\\\\pred\\\\S1.png': 'square',\n",
       " 'C:\\\\Users\\\\Sizamkele Ngqwemla\\\\Documents\\\\Mechatronics_Engineering\\\\4th_Year_Academics\\\\First_Semester\\\\EEE4114F_DSP\\\\project2\\\\dataset\\\\pred\\\\S2.png': 'triangle',\n",
       " 'C:\\\\Users\\\\Sizamkele Ngqwemla\\\\Documents\\\\Mechatronics_Engineering\\\\4th_Year_Academics\\\\First_Semester\\\\EEE4114F_DSP\\\\project2\\\\dataset\\\\pred\\\\T1.png': 'triangle',\n",
       " 'C:\\\\Users\\\\Sizamkele Ngqwemla\\\\Documents\\\\Mechatronics_Engineering\\\\4th_Year_Academics\\\\First_Semester\\\\EEE4114F_DSP\\\\project2\\\\dataset\\\\pred\\\\T3.png': 'triangle'}"
      ]
     },
     "execution_count": 286,
     "metadata": {},
     "output_type": "execute_result"
    }
   ],
   "source": [
    "pred_dict"
   ]
  }
 ],
 "metadata": {
  "kernelspec": {
   "display_name": "Python 3",
   "language": "python",
   "name": "python3"
  },
  "language_info": {
   "codemirror_mode": {
    "name": "ipython",
    "version": 3
   },
   "file_extension": ".py",
   "mimetype": "text/x-python",
   "name": "python",
   "nbconvert_exporter": "python",
   "pygments_lexer": "ipython3",
   "version": "3.8.8"
  }
 },
 "nbformat": 4,
 "nbformat_minor": 5
}
